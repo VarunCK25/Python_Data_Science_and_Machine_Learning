{
 "cells": [
  {
   "cell_type": "markdown",
   "metadata": {},
   "source": [
    "# NumPy Indexing and Selection\n",
    "\n",
    "Here we will discuss how to select elements or groups of elements from an array."
   ]
  },
  {
   "cell_type": "code",
   "execution_count": 1,
   "metadata": {},
   "outputs": [],
   "source": [
    "import numpy as np"
   ]
  },
  {
   "cell_type": "code",
   "execution_count": 2,
   "metadata": {},
   "outputs": [],
   "source": [
    "#Creating sample array\n",
    "arr = np.arange(0,11)"
   ]
  },
  {
   "cell_type": "code",
   "execution_count": 3,
   "metadata": {},
   "outputs": [
    {
     "data": {
      "text/plain": [
       "array([ 0,  1,  2,  3,  4,  5,  6,  7,  8,  9, 10])"
      ]
     },
     "execution_count": 3,
     "metadata": {},
     "output_type": "execute_result"
    }
   ],
   "source": [
    "#Show\n",
    "arr"
   ]
  },
  {
   "cell_type": "markdown",
   "metadata": {},
   "source": [
    "## Bracket Indexing and Selection\n",
    "The simplest way to pick one or some elements of an array looks very similar to python lists:"
   ]
  },
  {
   "cell_type": "code",
   "execution_count": 4,
   "metadata": {},
   "outputs": [
    {
     "data": {
      "text/plain": [
       "8"
      ]
     },
     "execution_count": 4,
     "metadata": {},
     "output_type": "execute_result"
    }
   ],
   "source": [
    "#Get a value at an index\n",
    "arr[8]"
   ]
  },
  {
   "cell_type": "code",
   "execution_count": 5,
   "metadata": {},
   "outputs": [
    {
     "data": {
      "text/plain": [
       "array([1, 2, 3, 4, 5, 6, 7])"
      ]
     },
     "execution_count": 5,
     "metadata": {},
     "output_type": "execute_result"
    }
   ],
   "source": [
    "#Get values in a range\n",
    "arr[1:8]"
   ]
  },
  {
   "cell_type": "code",
   "execution_count": 6,
   "metadata": {},
   "outputs": [
    {
     "data": {
      "text/plain": [
       "array([0, 1, 2, 3, 4])"
      ]
     },
     "execution_count": 6,
     "metadata": {},
     "output_type": "execute_result"
    }
   ],
   "source": [
    "#Get values in a range\n",
    "arr[0:5]"
   ]
  },
  {
   "cell_type": "markdown",
   "metadata": {},
   "source": [
    "## Broadcasting\n",
    "\n",
    "Numpy arrays differ from a normal Python list because of their ability to broadcast:"
   ]
  },
  {
   "cell_type": "code",
   "execution_count": 7,
   "metadata": {},
   "outputs": [
    {
     "data": {
      "text/plain": [
       "array([100, 100, 100, 100, 100,   5,   6,   7,   8,   9,  10])"
      ]
     },
     "execution_count": 7,
     "metadata": {},
     "output_type": "execute_result"
    }
   ],
   "source": [
    "#Setting a value with index range (Broadcasting)\n",
    "arr[0:5] = 100\n",
    "\n",
    "#Show\n",
    "arr"
   ]
  },
  {
   "cell_type": "code",
   "execution_count": 9,
   "metadata": {},
   "outputs": [
    {
     "data": {
      "text/plain": [
       "array([ 0,  1,  2,  3,  4,  5,  6,  7,  8,  9, 10])"
      ]
     },
     "execution_count": 9,
     "metadata": {},
     "output_type": "execute_result"
    }
   ],
   "source": [
    "# Reset array, we'll see why we had to reset in  a moment\n",
    "arr = np.arange(0,11)\n",
    "\n",
    "#Show\n",
    "arr"
   ]
  },
  {
   "cell_type": "code",
   "execution_count": 10,
   "metadata": {},
   "outputs": [
    {
     "data": {
      "text/plain": [
       "array([0, 1, 2, 3, 4, 5])"
      ]
     },
     "execution_count": 10,
     "metadata": {},
     "output_type": "execute_result"
    }
   ],
   "source": [
    "#Important notes on Slices\n",
    "slice_of_arr = arr[0:6]\n",
    "\n",
    "#Show slice\n",
    "slice_of_arr"
   ]
  },
  {
   "cell_type": "code",
   "execution_count": 11,
   "metadata": {},
   "outputs": [
    {
     "data": {
      "text/plain": [
       "array([99, 99, 99, 99, 99, 99])"
      ]
     },
     "execution_count": 11,
     "metadata": {},
     "output_type": "execute_result"
    }
   ],
   "source": [
    "#Change Slice\n",
    "slice_of_arr[:]=99\n",
    "\n",
    "#Show Slice again\n",
    "slice_of_arr"
   ]
  },
  {
   "cell_type": "markdown",
   "metadata": {},
   "source": [
    "Now note the changes also occur in our original array!"
   ]
  },
  {
   "cell_type": "code",
   "execution_count": 12,
   "metadata": {},
   "outputs": [
    {
     "data": {
      "text/plain": [
       "array([99, 99, 99, 99, 99, 99,  6,  7,  8,  9, 10])"
      ]
     },
     "execution_count": 12,
     "metadata": {},
     "output_type": "execute_result"
    }
   ],
   "source": [
    "arr"
   ]
  },
  {
   "cell_type": "markdown",
   "metadata": {},
   "source": [
    "Data is not copied, it's a view of the original array! This avoids memory problems!"
   ]
  },
  {
   "cell_type": "code",
   "execution_count": 13,
   "metadata": {},
   "outputs": [],
   "source": [
    "#To get a copy, need to be explicit\n",
    "arr_copy = arr.copy()"
   ]
  },
  {
   "cell_type": "code",
   "execution_count": 14,
   "metadata": {},
   "outputs": [
    {
     "data": {
      "text/plain": [
       "array([99, 99, 99, 99, 99, 99,  6,  7,  8,  9, 10])"
      ]
     },
     "execution_count": 14,
     "metadata": {},
     "output_type": "execute_result"
    }
   ],
   "source": [
    "arr_copy"
   ]
  },
  {
   "cell_type": "markdown",
   "metadata": {},
   "source": [
    "## Indexing a 2D array (matrices)\n",
    "\n",
    "The general format is **arr_2d[row][col]** or **arr_2d[row,col]**. Comma notation is generally recommended for clarity."
   ]
  },
  {
   "cell_type": "code",
   "execution_count": 15,
   "metadata": {},
   "outputs": [
    {
     "data": {
      "text/plain": [
       "array([[ 5, 10, 15],\n",
       "       [20, 25, 30],\n",
       "       [35, 40, 45]])"
      ]
     },
     "execution_count": 15,
     "metadata": {},
     "output_type": "execute_result"
    }
   ],
   "source": [
    "arr_2d = np.array(([5,10,15],[20,25,30],[35,40,45]))\n",
    "\n",
    "#Show\n",
    "arr_2d"
   ]
  },
  {
   "cell_type": "code",
   "execution_count": 16,
   "metadata": {},
   "outputs": [
    {
     "data": {
      "text/plain": [
       "array([20, 25, 30])"
      ]
     },
     "execution_count": 16,
     "metadata": {},
     "output_type": "execute_result"
    }
   ],
   "source": [
    "#Indexing row\n",
    "arr_2d[1]"
   ]
  },
  {
   "cell_type": "code",
   "execution_count": 17,
   "metadata": {},
   "outputs": [
    {
     "data": {
      "text/plain": [
       "20"
      ]
     },
     "execution_count": 17,
     "metadata": {},
     "output_type": "execute_result"
    }
   ],
   "source": [
    "# Format is arr_2d[row][col] or arr_2d[row,col]\n",
    "\n",
    "# Getting individual element value\n",
    "arr_2d[1][0]"
   ]
  },
  {
   "cell_type": "code",
   "execution_count": 18,
   "metadata": {},
   "outputs": [
    {
     "data": {
      "text/plain": [
       "20"
      ]
     },
     "execution_count": 18,
     "metadata": {},
     "output_type": "execute_result"
    }
   ],
   "source": [
    "# Getting individual element value\n",
    "arr_2d[1,0]"
   ]
  },
  {
   "cell_type": "code",
   "execution_count": 19,
   "metadata": {},
   "outputs": [
    {
     "data": {
      "text/plain": [
       "array([[10, 15],\n",
       "       [25, 30]])"
      ]
     },
     "execution_count": 19,
     "metadata": {},
     "output_type": "execute_result"
    }
   ],
   "source": [
    "# 2D array slicing\n",
    "\n",
    "#Shape (2,2) from top right corner\n",
    "arr_2d[:2,1:]"
   ]
  },
  {
   "cell_type": "code",
   "execution_count": 21,
   "metadata": {},
   "outputs": [
    {
     "data": {
      "text/plain": [
       "array([35, 40, 45])"
      ]
     },
     "execution_count": 21,
     "metadata": {},
     "output_type": "execute_result"
    }
   ],
   "source": [
    "#Shape bottom row\n",
    "arr_2d[2]"
   ]
  },
  {
   "cell_type": "code",
   "execution_count": 22,
   "metadata": {},
   "outputs": [
    {
     "data": {
      "text/plain": [
       "array([35, 40, 45])"
      ]
     },
     "execution_count": 22,
     "metadata": {},
     "output_type": "execute_result"
    }
   ],
   "source": [
    "#Shape bottom row\n",
    "arr_2d[2,:]"
   ]
  },
  {
   "cell_type": "markdown",
   "metadata": {},
   "source": [
    "### Fancy Indexing\n",
    "\n",
    "Fancy indexing allows us to select entire rows or columns out of order,to show this, let's quickly build out a numpy array:"
   ]
  },
  {
   "cell_type": "code",
   "execution_count": 23,
   "metadata": {},
   "outputs": [],
   "source": [
    "arr2d = np.zeros((10,10))"
   ]
  },
  {
   "cell_type": "code",
   "execution_count": 24,
   "metadata": {},
   "outputs": [],
   "source": [
    "#Length of array\n",
    "arr_length = arr2d.shape[1]"
   ]
  },
  {
   "cell_type": "code",
   "execution_count": 25,
   "metadata": {},
   "outputs": [
    {
     "data": {
      "text/plain": [
       "10"
      ]
     },
     "execution_count": 25,
     "metadata": {},
     "output_type": "execute_result"
    }
   ],
   "source": [
    "arr_length"
   ]
  },
  {
   "cell_type": "code",
   "execution_count": 26,
   "metadata": {},
   "outputs": [
    {
     "data": {
      "text/plain": [
       "array([[0., 0., 0., 0., 0., 0., 0., 0., 0., 0.],\n",
       "       [1., 1., 1., 1., 1., 1., 1., 1., 1., 1.],\n",
       "       [2., 2., 2., 2., 2., 2., 2., 2., 2., 2.],\n",
       "       [3., 3., 3., 3., 3., 3., 3., 3., 3., 3.],\n",
       "       [4., 4., 4., 4., 4., 4., 4., 4., 4., 4.],\n",
       "       [5., 5., 5., 5., 5., 5., 5., 5., 5., 5.],\n",
       "       [6., 6., 6., 6., 6., 6., 6., 6., 6., 6.],\n",
       "       [7., 7., 7., 7., 7., 7., 7., 7., 7., 7.],\n",
       "       [8., 8., 8., 8., 8., 8., 8., 8., 8., 8.],\n",
       "       [9., 9., 9., 9., 9., 9., 9., 9., 9., 9.]])"
      ]
     },
     "execution_count": 26,
     "metadata": {},
     "output_type": "execute_result"
    }
   ],
   "source": [
    "#Set up array\n",
    "\n",
    "for i in range(arr_length):\n",
    "    arr2d[i] = i\n",
    "    \n",
    "arr2d"
   ]
  },
  {
   "cell_type": "markdown",
   "metadata": {},
   "source": [
    "Fancy indexing allows the following"
   ]
  },
  {
   "cell_type": "code",
   "execution_count": 27,
   "metadata": {},
   "outputs": [
    {
     "data": {
      "text/plain": [
       "array([[2., 2., 2., 2., 2., 2., 2., 2., 2., 2.],\n",
       "       [4., 4., 4., 4., 4., 4., 4., 4., 4., 4.],\n",
       "       [6., 6., 6., 6., 6., 6., 6., 6., 6., 6.],\n",
       "       [8., 8., 8., 8., 8., 8., 8., 8., 8., 8.]])"
      ]
     },
     "execution_count": 27,
     "metadata": {},
     "output_type": "execute_result"
    }
   ],
   "source": [
    "arr2d[[2,4,6,8]]"
   ]
  },
  {
   "cell_type": "code",
   "execution_count": 28,
   "metadata": {},
   "outputs": [
    {
     "data": {
      "text/plain": [
       "array([[6., 6., 6., 6., 6., 6., 6., 6., 6., 6.],\n",
       "       [4., 4., 4., 4., 4., 4., 4., 4., 4., 4.],\n",
       "       [2., 2., 2., 2., 2., 2., 2., 2., 2., 2.],\n",
       "       [7., 7., 7., 7., 7., 7., 7., 7., 7., 7.]])"
      ]
     },
     "execution_count": 28,
     "metadata": {},
     "output_type": "execute_result"
    }
   ],
   "source": [
    "#Allows in any order\n",
    "arr2d[[6,4,2,7]]"
   ]
  },
  {
   "cell_type": "markdown",
   "metadata": {},
   "source": [
    "## More Indexing Help\n",
    "Indexing a 2d matrix can be a bit confusing at first, especially when you start to add in step size. Try google image searching NumPy indexing to fins useful images, like this one:\n",
    "\n",
    "<img src= 'data:image/png;base64,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' width=500/>"
   ]
  },
  {
   "cell_type": "markdown",
   "metadata": {},
   "source": [
    "## Selection\n",
    "\n",
    "Let's briefly go over how to use brackets for selection based off of comparison operators."
   ]
  },
  {
   "cell_type": "code",
   "execution_count": 31,
   "metadata": {},
   "outputs": [
    {
     "data": {
      "text/plain": [
       "array([ 1,  2,  3,  4,  5,  6,  7,  8,  9, 10])"
      ]
     },
     "execution_count": 31,
     "metadata": {},
     "output_type": "execute_result"
    }
   ],
   "source": [
    "arr = np.arange(1,11)\n",
    "arr"
   ]
  },
  {
   "cell_type": "code",
   "execution_count": 32,
   "metadata": {},
   "outputs": [
    {
     "data": {
      "text/plain": [
       "array([False, False, False, False,  True,  True,  True,  True,  True,\n",
       "        True])"
      ]
     },
     "execution_count": 32,
     "metadata": {},
     "output_type": "execute_result"
    }
   ],
   "source": [
    "arr > 4"
   ]
  },
  {
   "cell_type": "code",
   "execution_count": 33,
   "metadata": {},
   "outputs": [],
   "source": [
    "bool_arr = arr>4"
   ]
  },
  {
   "cell_type": "code",
   "execution_count": 34,
   "metadata": {},
   "outputs": [
    {
     "data": {
      "text/plain": [
       "array([False, False, False, False,  True,  True,  True,  True,  True,\n",
       "        True])"
      ]
     },
     "execution_count": 34,
     "metadata": {},
     "output_type": "execute_result"
    }
   ],
   "source": [
    "bool_arr"
   ]
  },
  {
   "cell_type": "code",
   "execution_count": 35,
   "metadata": {},
   "outputs": [
    {
     "data": {
      "text/plain": [
       "array([ 5,  6,  7,  8,  9, 10])"
      ]
     },
     "execution_count": 35,
     "metadata": {},
     "output_type": "execute_result"
    }
   ],
   "source": [
    "arr[bool_arr]"
   ]
  },
  {
   "cell_type": "code",
   "execution_count": 36,
   "metadata": {},
   "outputs": [
    {
     "data": {
      "text/plain": [
       "array([ 3,  4,  5,  6,  7,  8,  9, 10])"
      ]
     },
     "execution_count": 36,
     "metadata": {},
     "output_type": "execute_result"
    }
   ],
   "source": [
    "arr[arr>2]"
   ]
  },
  {
   "cell_type": "code",
   "execution_count": 37,
   "metadata": {},
   "outputs": [
    {
     "data": {
      "text/plain": [
       "array([ 3,  4,  5,  6,  7,  8,  9, 10])"
      ]
     },
     "execution_count": 37,
     "metadata": {},
     "output_type": "execute_result"
    }
   ],
   "source": [
    "x = 2\n",
    "arr[arr>x]"
   ]
  },
  {
   "cell_type": "markdown",
   "metadata": {},
   "source": [
    "## Thank You!"
   ]
  }
 ],
 "metadata": {
  "kernelspec": {
   "display_name": "Python 3",
   "language": "python",
   "name": "python3"
  },
  "language_info": {
   "codemirror_mode": {
    "name": "ipython",
    "version": 3
   },
   "file_extension": ".py",
   "mimetype": "text/x-python",
   "name": "python",
   "nbconvert_exporter": "python",
   "pygments_lexer": "ipython3",
   "version": "3.7.0"
  }
 },
 "nbformat": 4,
 "nbformat_minor": 2
}
